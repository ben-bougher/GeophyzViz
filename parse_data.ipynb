{
 "cells": [
  {
   "cell_type": "code",
   "execution_count": 143,
   "metadata": {
    "collapsed": true
   },
   "outputs": [],
   "source": [
    "import json"
   ]
  },
  {
   "cell_type": "code",
   "execution_count": 144,
   "metadata": {
    "collapsed": true
   },
   "outputs": [],
   "source": [
    "infile = 'data/seg2015.json'\n",
    "with open(infile, 'r') as f:\n",
    "    \n",
    "    data = json.loads(f.read())"
   ]
  },
  {
   "cell_type": "code",
   "execution_count": 145,
   "metadata": {
    "collapsed": false
   },
   "outputs": [
    {
     "data": {
      "text/plain": [
       "[u'Jing Zhao*', u'Jinghuai Gao']"
      ]
     },
     "execution_count": 145,
     "metadata": {},
     "output_type": "execute_result"
    }
   ],
   "source": [
    "((data[20])[u\"authors\"])"
   ]
  },
  {
   "cell_type": "code",
   "execution_count": 146,
   "metadata": {
    "collapsed": true
   },
   "outputs": [],
   "source": [
    "def clean_authors(authors):\n",
    "    cleaned = []\n",
    "    for uni in authors:\n",
    "        temp = uni.encode('ascii', 'replace')\n",
    "        n = len(temp)-1\n",
    "        if(temp[n]=='*'):\n",
    "            temp = temp[0:n]\n",
    "        cleaned.append(temp)\n",
    "    return cleaned"
   ]
  },
  {
   "cell_type": "code",
   "execution_count": 147,
   "metadata": {
    "collapsed": false
   },
   "outputs": [
    {
     "name": "stdout",
     "output_type": "stream",
     "text": [
      "['Jing Zhao', 'Jinghuai Gao']\n"
     ]
    }
   ],
   "source": [
    "temp = clean_authors(data[20][u\"authors\"])\n",
    "print(temp)"
   ]
  },
  {
   "cell_type": "code",
   "execution_count": 148,
   "metadata": {
    "collapsed": true
   },
   "outputs": [],
   "source": [
    "def clean_title(title):\n",
    "    cleaned = \"\"\n",
    "    for uni in title:\n",
    "        cleaned = cleaned + uni.encode('ascii','replace')\n",
    "    return cleaned"
   ]
  },
  {
   "cell_type": "code",
   "execution_count": 149,
   "metadata": {
    "collapsed": false
   },
   "outputs": [],
   "source": [
    "temp = clean_title(data[400][u\"title\"])\n"
   ]
  },
  {
   "cell_type": "code",
   "execution_count": 162,
   "metadata": {
    "collapsed": false
   },
   "outputs": [],
   "source": [
    "def clean_keywords(keywords):\n",
    "    cleaned = []\n",
    "    for uni in keywords:\n",
    "        cleaned.append(uni.encode('ascii','replace'))\n",
    "    return cleaned"
   ]
  },
  {
   "cell_type": "code",
   "execution_count": 163,
   "metadata": {
    "collapsed": false
   },
   "outputs": [
    {
     "name": "stdout",
     "output_type": "stream",
     "text": [
      "['3-C', 'numerical', 'modeling', 'finite element', '3D']\n"
     ]
    }
   ],
   "source": [
    "temp = clean_keywords(data[400][u\"keywords\"])\n",
    "print(temp)\n"
   ]
  },
  {
   "cell_type": "code",
   "execution_count": 152,
   "metadata": {
    "collapsed": false
   },
   "outputs": [],
   "source": [
    "def clean_doi(doi):\n",
    "    cleaned = \"\"\n",
    "    for uni in doi:\n",
    "        cleaned = cleaned + uni.encode('ascii','replace')\n",
    "    return cleaned"
   ]
  },
  {
   "cell_type": "code",
   "execution_count": 153,
   "metadata": {
    "collapsed": false
   },
   "outputs": [
    {
     "name": "stdout",
     "output_type": "stream",
     "text": [
      "['10.1190/segam2015-5884573.1']\n"
     ]
    }
   ],
   "source": [
    "temp = clean_keywords(data[400][u\"doi\"])\n",
    "print(temp)\n"
   ]
  },
  {
   "cell_type": "code",
   "execution_count": 169,
   "metadata": {
    "collapsed": true
   },
   "outputs": [],
   "source": [
    "def clean_institution(inst):\n",
    "    cleaned = []\n",
    "    for uni in inst:\n",
    "        cleaned.append(uni.encode('ascii','replace'))\n",
    "    return cleaned"
   ]
  },
  {
   "cell_type": "code",
   "execution_count": 170,
   "metadata": {
    "collapsed": false
   },
   "outputs": [
    {
     "name": "stdout",
     "output_type": "stream",
     "text": [
      "['Michigan Technological University', 'The University of Oklahoma']\n"
     ]
    }
   ],
   "source": [
    "temp = clean_institution(data[200][u\"institution\"])\n",
    "print(temp)"
   ]
  },
  {
   "cell_type": "code",
   "execution_count": 156,
   "metadata": {
    "collapsed": true
   },
   "outputs": [],
   "source": [
    "def clean_abstract(abstract):\n",
    "    cleaned = \"\"\n",
    "    for uni in abstract:\n",
    "        cleaned = cleaned + uni.encode('ascii','replace')\n",
    "    return cleaned"
   ]
  },
  {
   "cell_type": "code",
   "execution_count": 157,
   "metadata": {
    "collapsed": false
   },
   "outputs": [
    {
     "name": "stdout",
     "output_type": "stream",
     "text": [
      "Prestack seismic analysis provides information on rock properties, lithology, fluid content, and the orientation and intensity of anisotropy. However such analysis demands high-quality seismic data. Unfortunately there are always noise present in seismic data even after careful processing. Noise in the prestack gathers may not only contaminate the seismic image thereby lowering the quality of seismic interpretation, but may also bias the seismic prestack inversion for rock properties such as acoustic and shear impedance estimation. Common post-migration data conditioning includes running window median and Radon filters applied to the flattened common reflection point gathers. In this paper we combine filters across offset and azimuth with edge-preserving filters along structure to construct a true ?5D? filter that preserves amplitude, thereby preconditioning the data for subsequent quantitative analysis. We illustrate our workflow by applying it to a prestack seismic volume acquired over the Fort Worth Basin (FWB), TX. The inverted results from noise suppressed prestack gathers have noticeable improvement when compared to those inverted from conventional time migrated gathers.\n"
     ]
    }
   ],
   "source": [
    "temp = clean_abstract(data[200][u\"abstract\"]) # this abstract has unicode in it!\n",
    "print(temp)"
   ]
  },
  {
   "cell_type": "code",
   "execution_count": 158,
   "metadata": {
    "collapsed": true
   },
   "outputs": [],
   "source": [
    "def clean_issue(issue):\n",
    "    cleaned = int(issue.encode('ascii','replace'))\n",
    "    return cleaned"
   ]
  },
  {
   "cell_type": "code",
   "execution_count": 159,
   "metadata": {
    "collapsed": true
   },
   "outputs": [],
   "source": [
    "def clean_year(year):\n",
    "    cleaned = int(year.encode('ascii','replace'))\n",
    "    return cleaned"
   ]
  },
  {
   "cell_type": "code",
   "execution_count": 160,
   "metadata": {
    "collapsed": true
   },
   "outputs": [],
   "source": [
    "def clean_volume(volume):\n",
    "    cleaned = int(volume.encode('ascii','replace'))\n",
    "    return cleaned"
   ]
  },
  {
   "cell_type": "code",
   "execution_count": 161,
   "metadata": {
    "collapsed": false
   },
   "outputs": [
    {
     "name": "stdout",
     "output_type": "stream",
     "text": [
      "31\n"
     ]
    }
   ],
   "source": [
    "temp = clean_issue(u'31')\n",
    "print(temp)"
   ]
  },
  {
   "cell_type": "code",
   "execution_count": 168,
   "metadata": {
    "collapsed": false
   },
   "outputs": [
    {
     "name": "stdout",
     "output_type": "stream",
     "text": [
      "True\n"
     ]
    }
   ],
   "source": [
    "print((u\"authors\") in data[12])\n"
   ]
  },
  {
   "cell_type": "code",
   "execution_count": null,
   "metadata": {
    "collapsed": true
   },
   "outputs": [],
   "source": []
  },
  {
   "cell_type": "code",
   "execution_count": null,
   "metadata": {
    "collapsed": true
   },
   "outputs": [],
   "source": []
  },
  {
   "cell_type": "code",
   "execution_count": null,
   "metadata": {
    "collapsed": true
   },
   "outputs": [],
   "source": []
  },
  {
   "cell_type": "code",
   "execution_count": null,
   "metadata": {
    "collapsed": true
   },
   "outputs": [],
   "source": []
  }
 ],
 "metadata": {
  "kernelspec": {
   "display_name": "Python 2",
   "language": "python2",
   "name": "python2"
  },
  "language_info": {
   "codemirror_mode": {
    "name": "ipython",
    "version": 2
   },
   "file_extension": ".py",
   "mimetype": "text/x-python",
   "name": "python",
   "nbconvert_exporter": "python",
   "pygments_lexer": "ipython2",
   "version": "2.7.10"
  }
 },
 "nbformat": 4,
 "nbformat_minor": 0
}
